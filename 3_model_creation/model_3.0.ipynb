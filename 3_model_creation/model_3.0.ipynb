{
 "cells": [
  {
   "cell_type": "code",
   "execution_count": 1,
   "metadata": {},
   "outputs": [],
   "source": [
    "import torch\n",
    "from torch import nn\n",
    "import numpy as np\n",
    "import pandas as pd\n",
    "import matplotlib.pyplot as plt\n",
    "import seaborn as sns\n",
    "import math"
   ]
  },
  {
   "cell_type": "code",
   "execution_count": 2,
   "metadata": {},
   "outputs": [
    {
     "data": {
      "text/html": [
       "<div>\n",
       "<style scoped>\n",
       "    .dataframe tbody tr th:only-of-type {\n",
       "        vertical-align: middle;\n",
       "    }\n",
       "\n",
       "    .dataframe tbody tr th {\n",
       "        vertical-align: top;\n",
       "    }\n",
       "\n",
       "    .dataframe thead th {\n",
       "        text-align: right;\n",
       "    }\n",
       "</style>\n",
       "<table border=\"1\" class=\"dataframe\">\n",
       "  <thead>\n",
       "    <tr style=\"text-align: right;\">\n",
       "      <th></th>\n",
       "      <th>male</th>\n",
       "      <th>DASA</th>\n",
       "      <th>DVM</th>\n",
       "      <th>ATTENDS LECTURES</th>\n",
       "      <th>LITE</th>\n",
       "      <th>TREATS GIVEN</th>\n",
       "      <th>PIZZERIA EXPENDITURE (annual)</th>\n",
       "      <th>GRAMS / MONTH</th>\n",
       "      <th>GPL</th>\n",
       "    </tr>\n",
       "  </thead>\n",
       "  <tbody>\n",
       "    <tr>\n",
       "      <th>0</th>\n",
       "      <td>1.0</td>\n",
       "      <td>0.0</td>\n",
       "      <td>0.0</td>\n",
       "      <td>0.0</td>\n",
       "      <td>1.0</td>\n",
       "      <td>1.00</td>\n",
       "      <td>0.932068</td>\n",
       "      <td>0.447005</td>\n",
       "      <td>0.0</td>\n",
       "    </tr>\n",
       "    <tr>\n",
       "      <th>1</th>\n",
       "      <td>0.0</td>\n",
       "      <td>1.0</td>\n",
       "      <td>0.0</td>\n",
       "      <td>0.0</td>\n",
       "      <td>0.0</td>\n",
       "      <td>0.25</td>\n",
       "      <td>0.103086</td>\n",
       "      <td>0.004608</td>\n",
       "      <td>1.0</td>\n",
       "    </tr>\n",
       "    <tr>\n",
       "      <th>2</th>\n",
       "      <td>0.0</td>\n",
       "      <td>0.0</td>\n",
       "      <td>0.0</td>\n",
       "      <td>0.0</td>\n",
       "      <td>0.0</td>\n",
       "      <td>1.00</td>\n",
       "      <td>0.385920</td>\n",
       "      <td>0.013825</td>\n",
       "      <td>1.0</td>\n",
       "    </tr>\n",
       "    <tr>\n",
       "      <th>3</th>\n",
       "      <td>0.0</td>\n",
       "      <td>1.0</td>\n",
       "      <td>0.0</td>\n",
       "      <td>0.0</td>\n",
       "      <td>0.0</td>\n",
       "      <td>1.00</td>\n",
       "      <td>0.181943</td>\n",
       "      <td>0.004608</td>\n",
       "      <td>1.0</td>\n",
       "    </tr>\n",
       "    <tr>\n",
       "      <th>4</th>\n",
       "      <td>1.0</td>\n",
       "      <td>0.0</td>\n",
       "      <td>0.0</td>\n",
       "      <td>0.0</td>\n",
       "      <td>1.0</td>\n",
       "      <td>0.75</td>\n",
       "      <td>0.624503</td>\n",
       "      <td>0.769585</td>\n",
       "      <td>0.0</td>\n",
       "    </tr>\n",
       "    <tr>\n",
       "      <th>...</th>\n",
       "      <td>...</td>\n",
       "      <td>...</td>\n",
       "      <td>...</td>\n",
       "      <td>...</td>\n",
       "      <td>...</td>\n",
       "      <td>...</td>\n",
       "      <td>...</td>\n",
       "      <td>...</td>\n",
       "      <td>...</td>\n",
       "    </tr>\n",
       "    <tr>\n",
       "      <th>1085</th>\n",
       "      <td>1.0</td>\n",
       "      <td>0.0</td>\n",
       "      <td>0.0</td>\n",
       "      <td>0.0</td>\n",
       "      <td>0.0</td>\n",
       "      <td>0.00</td>\n",
       "      <td>0.597029</td>\n",
       "      <td>0.345622</td>\n",
       "      <td>0.0</td>\n",
       "    </tr>\n",
       "    <tr>\n",
       "      <th>1086</th>\n",
       "      <td>0.0</td>\n",
       "      <td>0.0</td>\n",
       "      <td>0.0</td>\n",
       "      <td>0.0</td>\n",
       "      <td>0.0</td>\n",
       "      <td>0.50</td>\n",
       "      <td>0.252023</td>\n",
       "      <td>0.013825</td>\n",
       "      <td>1.0</td>\n",
       "    </tr>\n",
       "    <tr>\n",
       "      <th>1087</th>\n",
       "      <td>0.0</td>\n",
       "      <td>0.0</td>\n",
       "      <td>0.0</td>\n",
       "      <td>1.0</td>\n",
       "      <td>1.0</td>\n",
       "      <td>1.00</td>\n",
       "      <td>0.797851</td>\n",
       "      <td>0.483871</td>\n",
       "      <td>0.0</td>\n",
       "    </tr>\n",
       "    <tr>\n",
       "      <th>1088</th>\n",
       "      <td>1.0</td>\n",
       "      <td>1.0</td>\n",
       "      <td>0.0</td>\n",
       "      <td>0.0</td>\n",
       "      <td>0.0</td>\n",
       "      <td>0.75</td>\n",
       "      <td>0.745371</td>\n",
       "      <td>0.788018</td>\n",
       "      <td>0.0</td>\n",
       "    </tr>\n",
       "    <tr>\n",
       "      <th>1089</th>\n",
       "      <td>0.0</td>\n",
       "      <td>0.0</td>\n",
       "      <td>0.0</td>\n",
       "      <td>0.0</td>\n",
       "      <td>0.0</td>\n",
       "      <td>0.25</td>\n",
       "      <td>0.245486</td>\n",
       "      <td>0.009217</td>\n",
       "      <td>1.0</td>\n",
       "    </tr>\n",
       "  </tbody>\n",
       "</table>\n",
       "<p>1090 rows × 9 columns</p>\n",
       "</div>"
      ],
      "text/plain": [
       "      male  DASA  DVM  ATTENDS LECTURES  LITE  TREATS GIVEN  \\\n",
       "0      1.0   0.0  0.0               0.0   1.0          1.00   \n",
       "1      0.0   1.0  0.0               0.0   0.0          0.25   \n",
       "2      0.0   0.0  0.0               0.0   0.0          1.00   \n",
       "3      0.0   1.0  0.0               0.0   0.0          1.00   \n",
       "4      1.0   0.0  0.0               0.0   1.0          0.75   \n",
       "...    ...   ...  ...               ...   ...           ...   \n",
       "1085   1.0   0.0  0.0               0.0   0.0          0.00   \n",
       "1086   0.0   0.0  0.0               0.0   0.0          0.50   \n",
       "1087   0.0   0.0  0.0               1.0   1.0          1.00   \n",
       "1088   1.0   1.0  0.0               0.0   0.0          0.75   \n",
       "1089   0.0   0.0  0.0               0.0   0.0          0.25   \n",
       "\n",
       "      PIZZERIA EXPENDITURE (annual)  GRAMS / MONTH  GPL  \n",
       "0                          0.932068       0.447005  0.0  \n",
       "1                          0.103086       0.004608  1.0  \n",
       "2                          0.385920       0.013825  1.0  \n",
       "3                          0.181943       0.004608  1.0  \n",
       "4                          0.624503       0.769585  0.0  \n",
       "...                             ...            ...  ...  \n",
       "1085                       0.597029       0.345622  0.0  \n",
       "1086                       0.252023       0.013825  1.0  \n",
       "1087                       0.797851       0.483871  0.0  \n",
       "1088                       0.745371       0.788018  0.0  \n",
       "1089                       0.245486       0.009217  1.0  \n",
       "\n",
       "[1090 rows x 9 columns]"
      ]
     },
     "execution_count": 2,
     "metadata": {},
     "output_type": "execute_result"
    }
   ],
   "source": [
    "df = pd.read_csv(\"../data/clean_enc.csv\")\n",
    "df = df[['male', 'DASA', 'DVM', 'ATTENDS LECTURES', 'LITE', 'TREATS GIVEN', 'PIZZERIA EXPENDITURE (annual)','GRAMS / MONTH', 'GPL']]\n",
    "in_features = len(list(df.columns)) - 1\n",
    "df"
   ]
  },
  {
   "cell_type": "code",
   "execution_count": 3,
   "metadata": {},
   "outputs": [
    {
     "data": {
      "text/plain": [
       "torch.Size([1090, 9])"
      ]
     },
     "execution_count": 3,
     "metadata": {},
     "output_type": "execute_result"
    }
   ],
   "source": [
    "full = torch.Tensor(df.values)\n",
    "full.shape"
   ]
  },
  {
   "cell_type": "code",
   "execution_count": 4,
   "metadata": {},
   "outputs": [],
   "source": [
    "device = \"cuda\" if torch.cuda.is_available() else \"cpu\""
   ]
  },
  {
   "cell_type": "code",
   "execution_count": 5,
   "metadata": {},
   "outputs": [
    {
     "data": {
      "text/plain": [
       "tensor([1.0000, 1.0000, 0.0000, 0.0000, 1.0000, 0.7500, 0.8662, 0.3456])"
      ]
     },
     "execution_count": 5,
     "metadata": {},
     "output_type": "execute_result"
    }
   ],
   "source": [
    "from torch.utils.data import TensorDataset, random_split\n",
    "\n",
    "test_split = math.floor(0.2*len(full))\n",
    "train_split = len(full) - test_split\n",
    "\n",
    "full_dataset = TensorDataset(full)\n",
    "train_set, test_set = random_split(full_dataset, [train_split, test_split])\n",
    "\n",
    "# Don't wan't to deal with dataloaders\n",
    "train_set = train_set[:][0]\n",
    "test_set = test_set[:][0]\n",
    "\n",
    "X_train, y_train = train_set[:, :-1], train_set[:, -1]\n",
    "X_test, y_test = test_set[:, :-1], test_set[:, -1]\n",
    "\n",
    "X_test[1]"
   ]
  },
  {
   "cell_type": "code",
   "execution_count": 6,
   "metadata": {},
   "outputs": [
    {
     "data": {
      "text/plain": [
       "ModelV3(\n",
       "  (linear_1): Linear(in_features=8, out_features=10, bias=True)\n",
       "  (linear_2): Linear(in_features=10, out_features=10, bias=True)\n",
       "  (linear_3): Linear(in_features=10, out_features=1, bias=True)\n",
       "  (relu): ReLU()\n",
       ")"
      ]
     },
     "execution_count": 6,
     "metadata": {},
     "output_type": "execute_result"
    }
   ],
   "source": [
    "hidden_nodes = 10\n",
    "\n",
    "class ModelV3(nn.Module):\n",
    "    \n",
    "    def __init__(self):\n",
    "        super().__init__()\n",
    "        self.linear_1 = nn.Linear(in_features=in_features, out_features=hidden_nodes)\n",
    "        self.linear_2 = nn.Linear(in_features=hidden_nodes, out_features=hidden_nodes)\n",
    "        self.linear_3 = nn.Linear(in_features=hidden_nodes, out_features=1)\n",
    "        self.relu = nn.ReLU()\n",
    "    \n",
    "    def forward(self, x):\n",
    "        return self.linear_3(self.relu(self.linear_2(self.relu(self.linear_1(x)))))\n",
    "\n",
    "model_3 = ModelV3()\n",
    "model_3"
   ]
  },
  {
   "cell_type": "code",
   "execution_count": 7,
   "metadata": {},
   "outputs": [],
   "source": [
    "loss_fn = nn.BCEWithLogitsLoss()\n",
    "optimizer = torch.optim.SGD(params=model_3.parameters(), lr=0.1)\n",
    "\n",
    "def acc_fn(pred_labels, true_labels):\n",
    "    return ((torch.eq(pred_labels, true_labels).sum())/len(true_labels))*100"
   ]
  },
  {
   "cell_type": "code",
   "execution_count": 8,
   "metadata": {},
   "outputs": [
    {
     "name": "stdout",
     "output_type": "stream",
     "text": [
      "Epoch: 0 | Train loss: 0.683857262134552 | Train Accuracy: 61.69725036621094 | Test loss: 0.6878301501274109 | Test Accuracy: 58.71559524536133\n",
      "Epoch: 50 | Train loss: 0.6271414160728455 | Train Accuracy: 61.69725036621094 | Test loss: 0.6378093957901001 | Test Accuracy: 58.71559524536133\n",
      "Epoch: 100 | Train loss: 0.44152915477752686 | Train Accuracy: 90.59632873535156 | Test loss: 0.4474513530731201 | Test Accuracy: 89.44953918457031\n",
      "Epoch: 150 | Train loss: 0.1674644649028778 | Train Accuracy: 97.59174346923828 | Test loss: 0.17517852783203125 | Test Accuracy: 96.78899383544922\n",
      "Epoch: 200 | Train loss: 0.07977700978517532 | Train Accuracy: 98.73853302001953 | Test loss: 0.08688649535179138 | Test Accuracy: 97.7064208984375\n",
      "Epoch: 250 | Train loss: 0.0461287647485733 | Train Accuracy: 99.5412826538086 | Test loss: 0.05213211104273796 | Test Accuracy: 99.5412826538086\n",
      "Epoch: 300 | Train loss: 0.030243808403611183 | Train Accuracy: 99.88532257080078 | Test loss: 0.035175103694200516 | Test Accuracy: 99.5412826538086\n",
      "Epoch: 350 | Train loss: 0.021685784682631493 | Train Accuracy: 100.0 | Test loss: 0.025682320818305016 | Test Accuracy: 99.5412826538086\n",
      "Epoch: 400 | Train loss: 0.016568614169955254 | Train Accuracy: 100.0 | Test loss: 0.01985439658164978 | Test Accuracy: 99.5412826538086\n",
      "Epoch: 450 | Train loss: 0.013246303424239159 | Train Accuracy: 100.0 | Test loss: 0.015995647758245468 | Test Accuracy: 100.0\n",
      "Epoch: 499 | Train loss: 0.010984699241816998 | Train Accuracy: 100.0 | Test loss: 0.013330311514437199 | Test Accuracy: 100.0\n",
      "[[128   0]\n",
      " [  0  90]]\n",
      "        NO GPL pred  GPL pred\n",
      "NO GPL          1.0       0.0\n",
      "GPL             0.0       1.0\n"
     ]
    },
    {
     "data": {
      "image/png": "[encoded data removed]",
      "text/plain": [
       "<Figure size 700x500 with 2 Axes>"
      ]
     },
     "metadata": {},
     "output_type": "display_data"
    }
   ],
   "source": [
    "from torch.utils.tensorboard import SummaryWriter\n",
    "from random import randrange\n",
    "from sklearn.metrics import confusion_matrix\n",
    "\n",
    "writer = SummaryWriter()\n",
    "\n",
    "results = {\n",
    "    \"train_loss\": [],\n",
    "    \"train_acc\": [], \n",
    "    \"test_loss\": [],\n",
    "    \"test_acc\": []\n",
    "}\n",
    "\n",
    "model_3 = model_3.to(device)\n",
    "X_train = X_train.to(device)\n",
    "X_test =  X_test.to(device)\n",
    "y_train = y_train.to(device)\n",
    "y_test = y_test.to(device)\n",
    "\n",
    "epochs = 500\n",
    "\n",
    "loss_arr = []\n",
    "acc_arr = []\n",
    "test_loss_arr = []\n",
    "test_acc_arr = []\n",
    "\n",
    "for epoch in range(epochs):\n",
    "\n",
    "    model_3.train()\n",
    "\n",
    "    y_logits = model_3(X_train).squeeze()\n",
    "    y_labels = torch.round(torch.sigmoid(y_logits))\n",
    "    optimizer.zero_grad()\n",
    "    loss = loss_fn(y_logits, y_train)\n",
    "    acc = acc_fn(y_labels, y_train)\n",
    "    loss.backward()\n",
    "    optimizer.step()\n",
    "\n",
    "    results[\"train_loss\"].append(loss.item())\n",
    "    results[\"train_acc\"].append(acc)\n",
    "\n",
    "    model_3.eval()\n",
    "    with torch.inference_mode():\n",
    "        test_logits = model_3(X_test).squeeze()\n",
    "        test_labels = torch.round(torch.sigmoid(test_logits))\n",
    "        test_loss = loss_fn(test_logits, y_test) \n",
    "        test_acc = acc_fn(test_labels, y_test)\n",
    "        results[\"test_loss\"].append(test_loss.item())\n",
    "        results[\"test_acc\"].append(test_acc) \n",
    "    \n",
    "    if epoch%50==0 or epoch==499:\n",
    "        print(f\"Epoch: {epoch} | Train loss: {loss} | Train Accuracy: {acc} | Test loss: {test_loss} | Test Accuracy: {test_acc}\")\n",
    "\n",
    "    if epoch==499:\n",
    "        cf_matrix = confusion_matrix(y_test, test_labels)  \n",
    "        print(cf_matrix)\n",
    "        df_cm = pd.DataFrame(cf_matrix / np.sum(cf_matrix, axis=1)[:, None], index= ['NO GPL', 'GPL'], columns=['NO GPL pred', 'GPL pred'])   \n",
    "        plt.figure(figsize=(7,5)) \n",
    "        print(df_cm)\n",
    "        sns.heatmap(df_cm, annot=True)\n",
    "\n",
    "    writer.add_scalars(main_tag=\"Loss\", tag_scalar_dict={\"train_loss\": loss, \"test_loss\": test_loss}, global_step=epoch)\n",
    "    writer.add_scalars(main_tag=\"Accuracy\", tag_scalar_dict={\"train_acc\": acc, \"test_acc\": test_acc}, global_step=epoch)\n",
    "    writer.add_graph(model=model_3, input_to_model= X_test[randrange(test_split)])\n",
    "\n",
    "writer.close()\n",
    "\n",
    "model_3 = model_3.to(\"cpu\")\n",
    "X_train = X_train.to(\"cpu\")\n",
    "X_test =  X_test.to(\"cpu\")\n",
    "y_train = y_train.to(\"cpu\")\n",
    "y_test = y_test.to(\"cpu\")\n"
   ]
  },
  {
   "cell_type": "code",
   "execution_count": 9,
   "metadata": {},
   "outputs": [
    {
     "data": {
      "image/png": "[encoded data removed]",
      "text/plain": [
       "<Figure size 640x480 with 2 Axes>"
      ]
     },
     "metadata": {},
     "output_type": "display_data"
    }
   ],
   "source": [
    "fig = plt.figure()\n",
    "ax1 = fig.add_subplot(221)\n",
    "ax2 = fig.add_subplot(222)\n",
    "\n",
    "ax1.scatter(range(epochs),results[\"train_acc\"], s=6, label='train acc')\n",
    "ax1.scatter(range(epochs), results[\"test_acc\"], s=6,label='test acc')\n",
    "ax1.legend()\n",
    "\n",
    "ax2.scatter(range(epochs),results[\"train_loss\"], s=6, label='train loss')\n",
    "ax2.scatter(range(epochs), results[\"test_loss\"], s=6,label='test loss')\n",
    "ax2.legend()\n",
    "\n",
    "plt.show()"
   ]
  },
  {
   "cell_type": "code",
   "execution_count": null,
   "metadata": {},
   "outputs": [],
   "source": []
  },
  {
   "cell_type": "code",
   "execution_count": 10,
   "metadata": {},
   "outputs": [
    {
     "name": "stdout",
     "output_type": "stream",
     "text": [
      "Saving model to: ..\\models\\model_3.pth\n"
     ]
    }
   ],
   "source": [
    "from pathlib import Path\n",
    "\n",
    "MODEL_PATH = Path(\"../models\")\n",
    "MODEL_PATH.mkdir(parents=True, exist_ok=True)\n",
    "\n",
    "MODEL_NAME = \"model_3.pth\"\n",
    "MODEL_SAVE_PATH = MODEL_PATH / MODEL_NAME\n",
    " \n",
    "print(f\"Saving model to: {MODEL_SAVE_PATH}\")\n",
    "torch.save(obj=model_3.state_dict(), # only saving the state_dict() only saves the models learned parameters\n",
    "           f=MODEL_SAVE_PATH) "
   ]
  },
  {
   "cell_type": "code",
   "execution_count": 11,
   "metadata": {},
   "outputs": [
    {
     "data": {
      "text/plain": [
       "ModelV3(\n",
       "  (linear_1): Linear(in_features=8, out_features=10, bias=True)\n",
       "  (linear_2): Linear(in_features=10, out_features=10, bias=True)\n",
       "  (linear_3): Linear(in_features=10, out_features=1, bias=True)\n",
       "  (relu): ReLU()\n",
       ")"
      ]
     },
     "execution_count": 11,
     "metadata": {},
     "output_type": "execute_result"
    }
   ],
   "source": [
    "loaded_model_3 = ModelV3()\n",
    "loaded_model_3.load_state_dict(torch.load(f=MODEL_SAVE_PATH))\n",
    "loaded_model_3"
   ]
  }
 ],
 "metadata": {
  "kernelspec": {
   "display_name": "Python 3",
   "language": "python",
   "name": "python3"
  },
  "language_info": {
   "codemirror_mode": {
    "name": "ipython",
    "version": 3
   },
   "file_extension": ".py",
   "mimetype": "text/x-python",
   "name": "python",
   "nbconvert_exporter": "python",
   "pygments_lexer": "ipython3",
   "version": "3.10.6"
  }
 },
 "nbformat": 4,
 "nbformat_minor": 2
}
