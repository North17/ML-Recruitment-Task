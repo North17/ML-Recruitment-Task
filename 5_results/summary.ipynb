{
 "cells": [
  {
   "cell_type": "markdown",
   "metadata": {},
   "source": [
    "## Model Summary"
   ]
  },
  {
   "cell_type": "markdown",
   "metadata": {},
   "source": [
    "### Overview:"
   ]
  },
  {
   "cell_type": "markdown",
   "metadata": {},
   "source": [
    "The new best model used here is model_3.2, which takes in 6 features:\n",
    "- sex\n",
    "- DASA or not\n",
    "- DVM or not\n",
    "- attends lectures\n",
    "- lite or not\n",
    "- grams / month"
   ]
  },
  {
   "cell_type": "markdown",
   "metadata": {},
   "source": [
    "I chose these features based on the data analysis I did. These 6 seem to have the strongest connection to whether or not a person got a GPL. "
   ]
  },
  {
   "cell_type": "markdown",
   "metadata": {},
   "source": [
    "### Hyperparameters:"
   ]
  },
  {
   "cell_type": "markdown",
   "metadata": {},
   "source": [
    "- 4 linear layers\n",
    "- 2 hidden nodes per layer\n",
    "- BCE loss function\n",
    "- SGD optimiser\n",
    "- Step LR scheduler: initial LR of 0.1, reduced to 0.01 after 250 epochs\n",
    "- 300 epochs"
   ]
  },
  {
   "cell_type": "markdown",
   "metadata": {},
   "source": [
    "### Results:"
   ]
  },
  {
   "cell_type": "markdown",
   "metadata": {},
   "source": [
    "- 97% accuracy\n",
    "- Precision: 97.08%\n",
    "- Recall/Sensitivity: 100%\n",
    "- Specificity: 97%\n",
    "- F1 Score: 98.52%\n",
    "- Confusion matrix can be viewed in results folder"
   ]
  }
 ],
 "metadata": {
  "kernelspec": {
   "display_name": "Python 3",
   "language": "python",
   "name": "python3"
  },
  "language_info": {
   "codemirror_mode": {
    "name": "ipython",
    "version": 3
   },
   "file_extension": ".py",
   "mimetype": "text/x-python",
   "name": "python",
   "nbconvert_exporter": "python",
   "pygments_lexer": "ipython3",
   "version": "3.10.6"
  }
 },
 "nbformat": 4,
 "nbformat_minor": 2
}
