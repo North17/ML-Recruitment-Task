{
 "cells": [
  {
   "cell_type": "markdown",
   "metadata": {},
   "source": [
    "## Model Summary"
   ]
  },
  {
   "cell_type": "markdown",
   "metadata": {},
   "source": [
    "### Overview:"
   ]
  },
  {
   "cell_type": "markdown",
   "metadata": {},
   "source": [
    "The current best model used here is model_3.0, which takes in 8 features:\n",
    "- sex\n",
    "- DASA or not\n",
    "- DVM or not\n",
    "- attends lectures\n",
    "- lite or not\n",
    "- treats given\n",
    "- pizzeria expenditure (to be removed in future version)\n",
    "- grams / month"
   ]
  },
  {
   "cell_type": "markdown",
   "metadata": {},
   "source": [
    "I chose these features based on the data analysis I did. These 8 seem to have the strongest connection to whether or not a person got a GPL. I will submit another model where pizzeria expenditure is not taken as an input. Clearly that features is making it too easy for the model to predict the outcome; removing it drops current model accuracy to 96%"
   ]
  },
  {
   "cell_type": "markdown",
   "metadata": {},
   "source": [
    "### Hyperparameters:"
   ]
  },
  {
   "cell_type": "markdown",
   "metadata": {},
   "source": [
    "- 3 linear layers\n",
    "- 2 ReLU activation layers in between\n",
    "- 10 hidden nodes per layer\n",
    "- 500 epochs"
   ]
  },
  {
   "cell_type": "markdown",
   "metadata": {},
   "source": [
    "### Result:"
   ]
  },
  {
   "cell_type": "markdown",
   "metadata": {},
   "source": [
    "- 100% accuracy\n",
    "- Upon removing pizzeria expenditure, current model accuracy drops to about 96%, will consider modifying or adding features to improve it (work in progress, model_3.1)"
   ]
  }
 ],
 "metadata": {
  "kernelspec": {
   "display_name": "Python 3",
   "language": "python",
   "name": "python3"
  },
  "language_info": {
   "codemirror_mode": {
    "name": "ipython",
    "version": 3
   },
   "file_extension": ".py",
   "mimetype": "text/x-python",
   "name": "python",
   "nbconvert_exporter": "python",
   "pygments_lexer": "ipython3",
   "version": "3.10.6"
  }
 },
 "nbformat": 4,
 "nbformat_minor": 2
}
